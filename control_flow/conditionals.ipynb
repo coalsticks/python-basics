{
 "cells": [
  {
   "attachments": {},
   "cell_type": "markdown",
   "metadata": {},
   "source": [
    "## Conditionals: if-statements \n",
    "\n",
    "In order to instruct a computer on what we want it to do, we have to be able to talk to it in a boolean way because computers only understand binary (0's and 1's).\n",
    "\n",
    "So the boolean logic can be applied through conditional statements. Like this:\n",
    "\n",
    "* Is this true? Okay, so do this.\n",
    "* It's not true? Do this instead.\n",
    "\n",
    "Let's start off with if-else statements. "
   ]
  },
  {
   "attachments": {},
   "cell_type": "markdown",
   "metadata": {},
   "source": [
    "In this example, we want to check if the user's age is within a certain range. Depending on the range, different actions will occur."
   ]
  },
  {
   "cell_type": "code",
   "execution_count": 9,
   "metadata": {},
   "outputs": [
    {
     "name": "stdout",
     "output_type": "stream",
     "text": [
      "You can legally drink in most countries!\n"
     ]
    }
   ],
   "source": [
    "# define the age variable. We want user input, so we use the input() function\n",
    "\n",
    "age = int(input(\"How old are you?: \"))  # we need to type cast the input to an int\n",
    "\n",
    "if age < 18:\n",
    "    print(\"You are not an adult yet.\")\n",
    "else: \n",
    "    print(\"You can legally drink in most countries!\")"
   ]
  },
  {
   "attachments": {},
   "cell_type": "markdown",
   "metadata": {},
   "source": [
    "We used the less-than to sign we've seen in maths before to compare. Some others you might encounter:\n",
    "\n",
    "* greater-than   > \n",
    "* equal-to                  : ==\n",
    "* not equal-to              : !=\n",
    "* greater than or equal to  : >=\n",
    "* less than or equal to     : <=\n",
    "\n",
    "And so on. Another set of logical expressions are the following: \n",
    "* and : all conditions are met\n",
    "* or  : one or more conditions are met\n",
    "* is  : an equality between objects (more on this later)\n",
    "* in  : checking if an object is present in a sequence data type\n",
    "* not : checking if an object is not present in a sequence data type\n",
    "\n",
    "Let's try another example!"
   ]
  },
  {
   "cell_type": "code",
   "execution_count": 10,
   "metadata": {},
   "outputs": [
    {
     "name": "stdout",
     "output_type": "stream",
     "text": [
      "This list has an apple\n"
     ]
    }
   ],
   "source": [
    "fruits = [\"apple\", \"orange\", \"banana\", \"grapes\"]\n",
    "\n",
    "# let's check if apple is present in the list\n",
    "if \"apple\" in fruits: \n",
    "    print(\"This list has an apple\")\n",
    "else: \n",
    "    print(\"No apples here\")"
   ]
  },
  {
   "cell_type": "code",
   "execution_count": 4,
   "metadata": {},
   "outputs": [
    {
     "name": "stdout",
     "output_type": "stream",
     "text": [
      "No strawberry here\n"
     ]
    }
   ],
   "source": [
    "if \"strawberry\" in fruits:\n",
    "    print(\"We got a strawberry!\")\n",
    "else:\n",
    "    print(\"No strawberry here\")"
   ]
  },
  {
   "attachments": {},
   "cell_type": "markdown",
   "metadata": {},
   "source": [
    "What if we had more than two conditions? \n",
    "\n",
    "We can use the else-if statement, which in Python is denoted by elif.\n",
    "\n",
    "Let's go back to that age example."
   ]
  },
  {
   "cell_type": "code",
   "execution_count": 1,
   "metadata": {},
   "outputs": [
    {
     "name": "stdout",
     "output_type": "stream",
     "text": [
      "You're pretty old\n"
     ]
    }
   ],
   "source": [
    "# recall age is a variable with a user input value\n",
    "age = int(input(\"How old are you?: \"))\n",
    "\n",
    "if age < 18: \n",
    "    print(\"You are a child\")\n",
    "elif age == 18: \n",
    "    print(\"Welcome to adulthood!\")\n",
    "else: \n",
    "    print(\"You're pretty old\")"
   ]
  },
  {
   "attachments": {},
   "cell_type": "markdown",
   "metadata": {},
   "source": [
    "Alternatively, we could use match-case statements like so:"
   ]
  },
  {
   "cell_type": "code",
   "execution_count": 8,
   "metadata": {},
   "outputs": [
    {
     "name": "stdout",
     "output_type": "stream",
     "text": [
      "Cat urine glows under a black-light.\n"
     ]
    }
   ],
   "source": [
    "choice = int(input(\"Pick a number between 1 to 3 \"))\n",
    "\n",
    "match choice:\n",
    "    case 1:\n",
    "        print(\"A crocodile cannot stick its tongue out.\")\n",
    "    case 2: \n",
    "        print(\"Some lipsticks contain fish scales.\")\n",
    "    case 3:\n",
    "        print(\"Cat urine glows under a black-light.\")\n"
   ]
  },
  {
   "attachments": {},
   "cell_type": "markdown",
   "metadata": {},
   "source": [
    "Learn more about conditionals in Python [here](https://docs.python.org/3/tutorial/controlflow.html#if-statements). "
   ]
  }
 ],
 "metadata": {
  "kernelspec": {
   "display_name": "Python 3",
   "language": "python",
   "name": "python3"
  },
  "language_info": {
   "codemirror_mode": {
    "name": "ipython",
    "version": 3
   },
   "file_extension": ".py",
   "mimetype": "text/x-python",
   "name": "python",
   "nbconvert_exporter": "python",
   "pygments_lexer": "ipython3",
   "version": "3.11.3"
  },
  "orig_nbformat": 4,
  "vscode": {
   "interpreter": {
    "hash": "916dbcbb3f70747c44a77c7bcd40155683ae19c65e1c03b4aa3499c5328201f1"
   }
  }
 },
 "nbformat": 4,
 "nbformat_minor": 2
}
