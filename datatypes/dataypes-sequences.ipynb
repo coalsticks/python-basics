{
 "cells": [
  {
   "attachments": {},
   "cell_type": "markdown",
   "metadata": {},
   "source": [
    "# Python Datatypes 2 - sequences"
   ]
  },
  {
   "attachments": {},
   "cell_type": "markdown",
   "metadata": {},
   "source": [
    "Sequence data types store sequences of values. In Python, those are lists and tuples. \n",
    "\n",
    "* lists: they are mutable, i.e. contents inside a list can be changed.\n",
    "* tuples: they are immutable, i.e. their contents cannot be changed. \n"
   ]
  },
  {
   "cell_type": "code",
   "execution_count": 6,
   "metadata": {},
   "outputs": [],
   "source": [
    "# how to create a list: \n",
    "fruits = [\"apple\", \"banana\", \"strawberry\", \"pineapple\", \"orange\"]"
   ]
  },
  {
   "attachments": {},
   "cell_type": "markdown",
   "metadata": {},
   "source": [
    "Things we can do with lists:"
   ]
  },
  {
   "cell_type": "code",
   "execution_count": 5,
   "metadata": {},
   "outputs": [
    {
     "name": "stdout",
     "output_type": "stream",
     "text": [
      "apple\n",
      "Orange\n"
     ]
    }
   ],
   "source": [
    "# return a specific item from the list based on index value\n",
    "\n",
    "print(fruits[0])    # first element\n",
    "print(fruits[-1])   # last element"
   ]
  },
  {
   "cell_type": "code",
   "execution_count": 8,
   "metadata": {},
   "outputs": [
    {
     "name": "stdout",
     "output_type": "stream",
     "text": [
      "['grapes', 'banana', 'strawberry', 'pineapple', 'orange']\n"
     ]
    }
   ],
   "source": [
    "# replace items in a list\n",
    "\n",
    "fruits[0] = \"grapes\"   # replace the first element \"apple\" to \"grapes\"\n",
    "\n",
    "print(fruits)"
   ]
  },
  {
   "cell_type": "code",
   "execution_count": 9,
   "metadata": {},
   "outputs": [
    {
     "name": "stdout",
     "output_type": "stream",
     "text": [
      "['grapes', 'banana', 'strawberry', 'pineapple', 'orange', 'passion fruit']\n"
     ]
    }
   ],
   "source": [
    "# add new elements (rememeber, lists are mutable)\n",
    "\n",
    "fruits.append(\"passion fruit\")\n",
    "\n",
    "print(fruits)"
   ]
  },
  {
   "cell_type": "code",
   "execution_count": 10,
   "metadata": {},
   "outputs": [
    {
     "name": "stdout",
     "output_type": "stream",
     "text": [
      "['grapes', 'strawberry', 'pineapple', 'orange']\n"
     ]
    }
   ],
   "source": [
    "# remove elements \n",
    "\n",
    "fruits.remove(\"banana\")\n",
    "fruits.pop()  # removes the last element, if not specified\n",
    "\n",
    "print(fruits)"
   ]
  },
  {
   "cell_type": "code",
   "execution_count": 11,
   "metadata": {},
   "outputs": [
    {
     "name": "stdout",
     "output_type": "stream",
     "text": [
      "['lemon', 'lime', 'avocado', 'mangos', 'watermelon', 'grapes', 'strawberry', 'pineapple', 'orange']\n"
     ]
    }
   ],
   "source": [
    "# concatenate two lists together\n",
    "\n",
    "new_fruits = [\"lemon\", \"lime\", \"avocado\", \"mangos\", \"watermelon\"]\n",
    "\n",
    "all_fruits = new_fruits + fruits\n",
    "\n",
    "print(all_fruits)"
   ]
  },
  {
   "attachments": {},
   "cell_type": "markdown",
   "metadata": {},
   "source": [
    "In Python, elements in a list do not have to be of the same type. So, we can have something like this:"
   ]
  },
  {
   "cell_type": "code",
   "execution_count": 12,
   "metadata": {},
   "outputs": [
    {
     "name": "stdout",
     "output_type": "stream",
     "text": [
      "[1, 5, 'bobby', 'sara']\n"
     ]
    }
   ],
   "source": [
    "random_list = [1, 5, \"bobby\", \"sara\"]\n",
    "\n",
    "print(random_list)  # it works!"
   ]
  },
  {
   "attachments": {},
   "cell_type": "markdown",
   "metadata": {},
   "source": [
    "To iterate through a list, we can use a for loop:"
   ]
  },
  {
   "cell_type": "code",
   "execution_count": 13,
   "metadata": {},
   "outputs": [
    {
     "name": "stdout",
     "output_type": "stream",
     "text": [
      "grapes\n",
      "strawberry\n",
      "pineapple\n",
      "orange\n"
     ]
    }
   ],
   "source": [
    "for i in fruits:\n",
    "    print(i)"
   ]
  },
  {
   "attachments": {},
   "cell_type": "markdown",
   "metadata": {},
   "source": [
    "Or, we can use a list comprehension. Pay close attention here:"
   ]
  },
  {
   "cell_type": "code",
   "execution_count": 14,
   "metadata": {},
   "outputs": [
    {
     "data": {
      "text/plain": [
       "['grapes', 'strawberry', 'pineapple', 'orange']"
      ]
     },
     "execution_count": 14,
     "metadata": {},
     "output_type": "execute_result"
    }
   ],
   "source": [
    "[i for i in fruits]"
   ]
  },
  {
   "attachments": {},
   "cell_type": "markdown",
   "metadata": {},
   "source": [
    "According to the documentation, list comprehensions allows us to create lists in a more concise and straightforward manner.\n",
    "\n",
    "Let's compare..."
   ]
  },
  {
   "cell_type": "code",
   "execution_count": 15,
   "metadata": {},
   "outputs": [
    {
     "name": "stdout",
     "output_type": "stream",
     "text": [
      "[0, 1, 4, 9, 16, 25, 36, 49, 64, 81]\n"
     ]
    }
   ],
   "source": [
    "squares = []   # initializing an empty list\n",
    "\n",
    "for i in range(10):\n",
    "    squares.append(i**2)\n",
    "\n",
    "print(squares)"
   ]
  },
  {
   "cell_type": "code",
   "execution_count": 16,
   "metadata": {},
   "outputs": [
    {
     "name": "stdout",
     "output_type": "stream",
     "text": [
      "[0, 1, 4, 9, 16, 25, 36, 49, 64, 81]\n"
     ]
    }
   ],
   "source": [
    "# Now, with list comprehension\n",
    "\n",
    "squares_2 = [i**2 for i in range(10)]\n",
    "\n",
    "print(squares_2)"
   ]
  },
  {
   "attachments": {},
   "cell_type": "markdown",
   "metadata": {},
   "source": [
    "This is what we refer to as the Pythonic way. \n",
    "\n",
    "The syntax is as follows: [result_of_i for i in sequence]\n",
    "\n",
    "What that says is, \"Do this to element, i, for every i in the sequence\". \n",
    "\n",
    "A lot more can be done with list comprehensions, but we'll look into that later. Moving on to tuples..."
   ]
  },
  {
   "cell_type": "code",
   "execution_count": 19,
   "metadata": {},
   "outputs": [
    {
     "name": "stdout",
     "output_type": "stream",
     "text": [
      "('sara', 'bobby', 'lee', 'daniel')\n"
     ]
    }
   ],
   "source": [
    "# how to create a tuple\n",
    "\n",
    "names = (\"sara\", \"bobby\", \"lee\", \"daniel\")\n",
    "\n",
    "print(names)"
   ]
  },
  {
   "cell_type": "code",
   "execution_count": 23,
   "metadata": {},
   "outputs": [
    {
     "name": "stdout",
     "output_type": "stream",
     "text": [
      "tuple: ('sara', 'bobby', 'cassey')\n",
      "type check: <class 'tuple'>\n"
     ]
    }
   ],
   "source": [
    "# alternatively, we can create a typle like so:\n",
    "names2 = \"sara\", \"bobby\", \"cassey\"\n",
    "\n",
    "print(f\"tuple: {names2}\")\n",
    "print(f\"type check: {type(names2)}\")"
   ]
  },
  {
   "cell_type": "code",
   "execution_count": 24,
   "metadata": {},
   "outputs": [
    {
     "ename": "AttributeError",
     "evalue": "'tuple' object has no attribute 'remove'",
     "output_type": "error",
     "traceback": [
      "\u001b[0;31m---------------------------------------------------------------------------\u001b[0m",
      "\u001b[0;31mAttributeError\u001b[0m                            Traceback (most recent call last)",
      "Cell \u001b[0;32mIn[24], line 3\u001b[0m\n\u001b[1;32m      1\u001b[0m \u001b[39m# remember, tuples are immutable, so we cannot do this:\u001b[39;00m\n\u001b[0;32m----> 3\u001b[0m names\u001b[39m.\u001b[39;49mremove()\n",
      "\u001b[0;31mAttributeError\u001b[0m: 'tuple' object has no attribute 'remove'"
     ]
    }
   ],
   "source": [
    "# remember, tuples are immutable, so we cannot do this:\n",
    "\n",
    "names.remove()"
   ]
  },
  {
   "attachments": {},
   "cell_type": "markdown",
   "metadata": {},
   "source": [
    "We can have a tuple of lists, and a list of tuples. \n",
    "\n",
    "Check it out"
   ]
  },
  {
   "cell_type": "code",
   "execution_count": 25,
   "metadata": {},
   "outputs": [
    {
     "name": "stdout",
     "output_type": "stream",
     "text": [
      "tuple of lists: (['grapes', 'strawberry', 'pineapple', 'orange'], [1, 5, 'bobby', 'sara']) \n",
      "list of tuples: [('sara', 'bobby', 'lee', 'daniel'), ('sara', 'bobby', 'cassey')]\n"
     ]
    }
   ],
   "source": [
    "this_tuple = fruits, random_list\n",
    "\n",
    "this_list = [names, names2]\n",
    "\n",
    "print(f\"tuple of lists: {this_tuple}\\n\")\n",
    "print(f\"list of tuples: {this_list}\")"
   ]
  },
  {
   "attachments": {},
   "cell_type": "markdown",
   "metadata": {},
   "source": [
    "Pretty cool, right? "
   ]
  },
  {
   "attachments": {},
   "cell_type": "markdown",
   "metadata": {},
   "source": [
    "There are a lot more you can do with lists which we will explore some more. If you can't wait, check out the documentation [here](https://docs.python.org/3/tutorial/datastructures.html#more-on-lists). \n",
    "\n",
    "As for tuples, they are more similar to strings due to their immutable nature. In fact, if you continue reading further down the documentation, you'll see that it has the same methods as strings. \n",
    "\n",
    "So, when deciding whether to use a list or tuple, always consider what is the nature of the values you are dealing with. "
   ]
  }
 ],
 "metadata": {
  "kernelspec": {
   "display_name": "Python 3",
   "language": "python",
   "name": "python3"
  },
  "language_info": {
   "codemirror_mode": {
    "name": "ipython",
    "version": 3
   },
   "file_extension": ".py",
   "mimetype": "text/x-python",
   "name": "python",
   "nbconvert_exporter": "python",
   "pygments_lexer": "ipython3",
   "version": "3.10.6"
  },
  "orig_nbformat": 4,
  "vscode": {
   "interpreter": {
    "hash": "916dbcbb3f70747c44a77c7bcd40155683ae19c65e1c03b4aa3499c5328201f1"
   }
  }
 },
 "nbformat": 4,
 "nbformat_minor": 2
}
