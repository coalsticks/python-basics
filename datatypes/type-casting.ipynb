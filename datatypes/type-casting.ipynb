{
 "cells": [
  {
   "attachments": {},
   "cell_type": "markdown",
   "metadata": {},
   "source": [
    "# Type Casting\n",
    "\n",
    "Remember when we had a number being represented as a string? \n",
    "\n",
    "Recall:"
   ]
  },
  {
   "cell_type": "code",
   "execution_count": 1,
   "metadata": {},
   "outputs": [
    {
     "name": "stdout",
     "output_type": "stream",
     "text": [
      "<class 'str'>\n"
     ]
    }
   ],
   "source": [
    "age = \"19\"\n",
    "\n",
    "print(type(age))"
   ]
  },
  {
   "attachments": {},
   "cell_type": "markdown",
   "metadata": {},
   "source": [
    "We can make age into an integer by type casting (converting a data from one data type to another) the string variable (age) into an integer. \n",
    "\n",
    "We do this by using some built-in functions:\n",
    "* int()   : will change a string (if it has a numeric value), or float into an integer\n",
    "* float() : same thing as the previous, but this time into a float value\n",
    "* str()   : converts data to string\n",
    "\n",
    "Some other functions that do this are:\n",
    "* list()  : converts data to a list object\n",
    "* bin()   : converts a numeric value into a binary value\n",
    "* set()   : converts data to a set object\n",
    "\n",
    "By using these functions, we are **explicitly** converting our data into another data type. \n",
    "\n",
    "Remember how Python is dynamically typed? That means it can **implicitly** convert a data into another data type without us informing it. Like, when we added a float to an integer and our result was automatically a float! "
   ]
  },
  {
   "cell_type": "code",
   "execution_count": 2,
   "metadata": {},
   "outputs": [
    {
     "name": "stdout",
     "output_type": "stream",
     "text": [
      "19\n"
     ]
    }
   ],
   "source": [
    "# in order to type cast, we need to insert the value we want to convert as an argument in the function\n",
    "# we want to convert it to. We will see more about functions, parameters, and arguments in another notebook.\n",
    "\n",
    "# let's convert this variable into an integer\n",
    "\n",
    "price = int(19.99)\n",
    "\n",
    "print(price)"
   ]
  },
  {
   "cell_type": "code",
   "execution_count": 4,
   "metadata": {},
   "outputs": [
    {
     "name": "stdout",
     "output_type": "stream",
     "text": [
      "19.0\n"
     ]
    }
   ],
   "source": [
    "# and back to a float\n",
    "\n",
    "print(float(price))"
   ]
  },
  {
   "cell_type": "code",
   "execution_count": 9,
   "metadata": {},
   "outputs": [
    {
     "name": "stdout",
     "output_type": "stream",
     "text": [
      "19\n"
     ]
    }
   ],
   "source": [
    "# and now to a string\n",
    "\n",
    "price = str(price)\n",
    "\n",
    "print(price)  # this still looks like an integer... let's check its type."
   ]
  },
  {
   "cell_type": "code",
   "execution_count": 10,
   "metadata": {},
   "outputs": [
    {
     "name": "stdout",
     "output_type": "stream",
     "text": [
      "<class 'str'>\n"
     ]
    }
   ],
   "source": [
    "print(type(price))  # it is, indeed, a string"
   ]
  },
  {
   "attachments": {},
   "cell_type": "markdown",
   "metadata": {},
   "source": [
    "Why is this important? \n",
    "\n",
    "Let's consider the following scenario.\n",
    "\n",
    "We collect user data using the input() function for the user to enter their age. \n",
    "\n",
    "This function returns a string value, but we need to perform some arithmetic with the user's age. \n",
    "\n",
    "Let's see what happens if we try performing maths with a string: "
   ]
  },
  {
   "cell_type": "code",
   "execution_count": 11,
   "metadata": {},
   "outputs": [
    {
     "ename": "TypeError",
     "evalue": "can only concatenate str (not \"int\") to str",
     "output_type": "error",
     "traceback": [
      "\u001b[0;31m---------------------------------------------------------------------------\u001b[0m",
      "\u001b[0;31mTypeError\u001b[0m                                 Traceback (most recent call last)",
      "Cell \u001b[0;32mIn[11], line 3\u001b[0m\n\u001b[1;32m      1\u001b[0m age \u001b[39m=\u001b[39m \u001b[39minput\u001b[39m(\u001b[39m\"\u001b[39m\u001b[39mEnter your age: \u001b[39m\u001b[39m\"\u001b[39m)\n\u001b[0;32m----> 3\u001b[0m age_in_5_years \u001b[39m=\u001b[39m age \u001b[39m+\u001b[39;49m \u001b[39m5\u001b[39;49m\n\u001b[1;32m      5\u001b[0m \u001b[39mprint\u001b[39m(\u001b[39mf\u001b[39m\u001b[39m\"\u001b[39m\u001b[39mIn 5 years, you will be \u001b[39m\u001b[39m{\u001b[39;00mage_in_5_years\u001b[39m}\u001b[39;00m\u001b[39m\"\u001b[39m)\n",
      "\u001b[0;31mTypeError\u001b[0m: can only concatenate str (not \"int\") to str"
     ]
    }
   ],
   "source": [
    "age = input(\"Enter your age: \")\n",
    "\n",
    "age_in_5_years = age + 5\n",
    "\n",
    "print(f\"In 5 years, you will be {age_in_5_years} years old.\")"
   ]
  },
  {
   "attachments": {},
   "cell_type": "markdown",
   "metadata": {},
   "source": [
    "We get a *TypeError: can only concatenate str (not \"int\") to str*. A string value can not perform maths.\n",
    "\n",
    "So, even though we have a number inside a string, we must first convert it to an integer or float before performing these calculations. \n",
    "\n",
    "Remember, we need to be specific when dealing with machines. It will take what you give. "
   ]
  },
  {
   "cell_type": "code",
   "execution_count": 12,
   "metadata": {},
   "outputs": [
    {
     "name": "stdout",
     "output_type": "stream",
     "text": [
      "In 5 years, you will be 25 years old.\n"
     ]
    }
   ],
   "source": [
    "# let's try again, but let's type cast this time\n",
    "\n",
    "age_in_5_years = int(age) + 5\n",
    "\n",
    "print(f\"In 5 years, you will be {age_in_5_years} years old.\")"
   ]
  },
  {
   "attachments": {},
   "cell_type": "markdown",
   "metadata": {},
   "source": [
    "And that is why we might want to type cast some times. So, keep that in mind."
   ]
  }
 ],
 "metadata": {
  "kernelspec": {
   "display_name": "Python 3",
   "language": "python",
   "name": "python3"
  },
  "language_info": {
   "codemirror_mode": {
    "name": "ipython",
    "version": 3
   },
   "file_extension": ".py",
   "mimetype": "text/x-python",
   "name": "python",
   "nbconvert_exporter": "python",
   "pygments_lexer": "ipython3",
   "version": "3.10.6"
  },
  "orig_nbformat": 4,
  "vscode": {
   "interpreter": {
    "hash": "916dbcbb3f70747c44a77c7bcd40155683ae19c65e1c03b4aa3499c5328201f1"
   }
  }
 },
 "nbformat": 4,
 "nbformat_minor": 2
}
