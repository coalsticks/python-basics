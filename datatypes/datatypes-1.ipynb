{
 "cells": [
  {
   "attachments": {},
   "cell_type": "markdown",
   "metadata": {},
   "source": [
    "# Python Datatypes 1\n",
    "\n",
    "Dataypes are the \"containers\" you'll be storing your data in. It can be numerical, alphanumeric, alphabets...\n",
    "\n",
    "Why do they matter? \n",
    "\n",
    "Because certain datatypes will hold a specific amount of memory, or be able to perform operations other types of \n",
    "data cannot do (like adding 1 + 1 = 2). \n",
    "\n",
    "In Python, we don't need to worry so much about memory because it automatically manages memory for us (garbage collection). So, we won't get into this right now. \n",
    "\n",
    "For now, let's look at some of these types."
   ]
  },
  {
   "attachments": {},
   "cell_type": "markdown",
   "metadata": {},
   "source": [
    "**Strings** : these are enclosed in '' or \"\". Strings can hold numbers, characters, and so on, as long as it is within the quotation marks. "
   ]
  },
  {
   "cell_type": "code",
   "execution_count": 1,
   "metadata": {},
   "outputs": [
    {
     "name": "stdout",
     "output_type": "stream",
     "text": [
      "Bobby\n"
     ]
    }
   ],
   "source": [
    "# let's declare a variable called name, which will hold a string (i.e. a name)\n",
    "\n",
    "name = \"Bobby\"\n",
    "\n",
    "# now, let's display it by using the print function (don't worry about functions for now)\n",
    "print(name)  "
   ]
  },
  {
   "cell_type": "code",
   "execution_count": 2,
   "metadata": {},
   "outputs": [],
   "source": [
    "# what about a string with a number inside? \n",
    "\n",
    "age = \"19\" \n",
    "\n",
    "# let's try this without the quotation marks\n",
    "\n",
    "age_2 = 19 \n",
    "\n",
    "# ok... let's see what the interpreter thinks of both of these variables"
   ]
  },
  {
   "cell_type": "code",
   "execution_count": 3,
   "metadata": {},
   "outputs": [
    {
     "name": "stdout",
     "output_type": "stream",
     "text": [
      "age: <class 'str'>\n",
      "age 2: <class 'int'>\n"
     ]
    }
   ],
   "source": [
    "print(f\"age: {type(age)}\")  # don't worry about the syntax for now, just see the result\n",
    "print(f\"age 2: {type(age_2)}\")"
   ]
  },
  {
   "attachments": {},
   "cell_type": "markdown",
   "metadata": {},
   "source": [
    "Therefore, from the results we can see that if a variable is encompassed in \"\" or '', it will be interpreted as a String. It does not matter if what is inside is an alphabet or a number. \n",
    "\n",
    "Without the quotes, a number will be a number. \n",
    "\n",
    "**note: in Python, str stands for String and int for Integer.**\n",
    "\n",
    "\n",
    "Moving on... "
   ]
  },
  {
   "cell_type": "code",
   "execution_count": 5,
   "metadata": {},
   "outputs": [],
   "source": [
    "# Integers : as we've seen in maths, integers are all whole numbers \n",
    "#           in the a number line, including negatives. In Python, it's the same thing,\n",
    "#           decimals are not part of this data type. \n",
    "\n",
    "\n",
    "# remember the variable age? Let's look at it again \n",
    "\n",
    "age = 19       # this is an int\n",
    "\n",
    "age_2 = 19.0   # what does Python say about this? "
   ]
  },
  {
   "cell_type": "code",
   "execution_count": 6,
   "metadata": {},
   "outputs": [
    {
     "name": "stdout",
     "output_type": "stream",
     "text": [
      "age: <class 'int'>\n",
      "age_2: <class 'float'>\n"
     ]
    }
   ],
   "source": [
    "print(f\"age: {type(age)}\")\n",
    "print(f\"age_2: {type(age_2)}\")"
   ]
  },
  {
   "cell_type": "code",
   "execution_count": 8,
   "metadata": {},
   "outputs": [
    {
     "name": "stdout",
     "output_type": "stream",
     "text": [
      "result : 5.0 \n",
      "type: <class 'float'>\n"
     ]
    }
   ],
   "source": [
    "# a value with a decimal is called a float, for floating-point number. Unlike some other programming languages\n",
    "# we can perform calculations with numbers of different types. \n",
    "\n",
    "# But, what data type would the result be? Let's see\n",
    "\n",
    "add = 2 + 3.0 \n",
    "\n",
    "print(f\"result : {add} \\ntype: {type(add)}\")"
   ]
  },
  {
   "attachments": {},
   "cell_type": "markdown",
   "metadata": {},
   "source": [
    "Cool, so if we add an integer and a float, the result is a float. Makes sense? \n",
    "\n",
    "Now, we let's try performing some more basic operations."
   ]
  },
  {
   "cell_type": "code",
   "execution_count": 3,
   "metadata": {},
   "outputs": [
    {
     "name": "stdout",
     "output_type": "stream",
     "text": [
      "2\n"
     ]
    }
   ],
   "source": [
    "# addition\n",
    "a = 1 + 1  \n",
    "\n",
    "print(a)"
   ]
  },
  {
   "cell_type": "code",
   "execution_count": 13,
   "metadata": {},
   "outputs": [
    {
     "name": "stdout",
     "output_type": "stream",
     "text": [
      "0\n"
     ]
    }
   ],
   "source": [
    "# subtraction \n",
    "b = 1 - 1 \n",
    "\n",
    "print(b)"
   ]
  },
  {
   "cell_type": "code",
   "execution_count": 14,
   "metadata": {},
   "outputs": [
    {
     "name": "stdout",
     "output_type": "stream",
     "text": [
      "8\n"
     ]
    }
   ],
   "source": [
    "# multiplication (denoted by *)\n",
    "c = 2 * 4\n",
    "\n",
    "print(c)"
   ]
  },
  {
   "cell_type": "code",
   "execution_count": 16,
   "metadata": {},
   "outputs": [
    {
     "name": "stdout",
     "output_type": "stream",
     "text": [
      "2.0\n"
     ]
    }
   ],
   "source": [
    "# division (here's the fun part)\n",
    "d = 4 /2  # what do you think the result will be? \n",
    "\n",
    "print(d)"
   ]
  },
  {
   "attachments": {},
   "cell_type": "markdown",
   "metadata": {},
   "source": [
    "What data type was the previous answer? A float. \n",
    "\n",
    "What if we do this? "
   ]
  },
  {
   "cell_type": "code",
   "execution_count": 18,
   "metadata": {},
   "outputs": [
    {
     "name": "stdout",
     "output_type": "stream",
     "text": [
      "2\n"
     ]
    }
   ],
   "source": [
    "e = 4 // 2 \n",
    "\n",
    "print(e)   "
   ]
  },
  {
   "attachments": {},
   "cell_type": "markdown",
   "metadata": {},
   "source": [
    "Nice, now our result is an integer. What Python is doing here is called floor division. It discards the fractional part.   \n",
    "\n",
    "The same can happen with floats.\n"
   ]
  },
  {
   "cell_type": "code",
   "execution_count": 20,
   "metadata": {},
   "outputs": [
    {
     "name": "stdout",
     "output_type": "stream",
     "text": [
      "f: 2.1\n",
      "g: 2.0\n"
     ]
    }
   ],
   "source": [
    "f = 4.2 / 2.0  \n",
    "\n",
    "g = 4.2 // 2.0\n",
    "\n",
    "print(f\"f: {f}\")\n",
    "print(f\"g: {g}\")"
   ]
  },
  {
   "attachments": {},
   "cell_type": "markdown",
   "metadata": {},
   "source": [
    "Enough of that. Let's look at some more operations.\n",
    "\n",
    "**Modular operator** : this will return the REMAINDER of a division. Pretty cool, right? \n"
   ]
  },
  {
   "cell_type": "code",
   "execution_count": 4,
   "metadata": {},
   "outputs": [
    {
     "name": "stdout",
     "output_type": "stream",
     "text": [
      "Quotient of 5 divided by 2 : 2.5\n",
      "Remainder of 5 divided by 2 : 1\n"
     ]
    }
   ],
   "source": [
    "h_quotient = 5 / 2\n",
    "h_remainder = 5 % 2  \n",
    "\n",
    "print(f\"Quotient of 5 divided by 2 : {h_quotient}\")\n",
    "print(f\"Remainder of 5 divided by 2 : {h_remainder}\")"
   ]
  },
  {
   "cell_type": "code",
   "execution_count": 12,
   "metadata": {},
   "outputs": [
    {
     "name": "stdout",
     "output_type": "stream",
     "text": [
      "bmi: 19.735647579225468\n",
      "rounded bmi: 19.74\n"
     ]
    }
   ],
   "source": [
    "# Let's calculate BMI by using variables with floating-point (decimal) values\n",
    "\n",
    "weight = 52.5\n",
    "height = 1.631 ** 2                     # here, we are doing height squared. To use exponents use ** \n",
    "\n",
    "bmi = weight / height\n",
    "\n",
    "print(f\"bmi: {bmi}\")                    # this result is too long, let's round it. \n",
    "print(f\"rounded bmi: {round(bmi, 2)}\")  # much better result."
   ]
  },
  {
   "cell_type": "code",
   "execution_count": 17,
   "metadata": {},
   "outputs": [
    {
     "name": "stdout",
     "output_type": "stream",
     "text": [
      "result: 9.0\n"
     ]
    }
   ],
   "source": [
    "# One more, I promise. Remember those viral maths problems on instagram? The one with the order of operations? \n",
    "# Let's see how Python does it.\n",
    "\n",
    "solve = 6 / 2 * (1 + 2)  \n",
    "\n",
    "print(f\"result: {solve}\")  # it follows the order of operations! and some say the answer is 1 smh"
   ]
  },
  {
   "attachments": {},
   "cell_type": "markdown",
   "metadata": {},
   "source": [
    "### Boolean\n",
    "1 + 1 is 3: True or False? \n",
    "\n",
    "There's only two options of an answer here, right? Here, the answer is clearly False. \n",
    "\n",
    "This data type is called Boolean. It is useful when we want to check for equality, for example: \n",
    "\n"
   ]
  },
  {
   "cell_type": "code",
   "execution_count": 2,
   "metadata": {},
   "outputs": [
    {
     "data": {
      "text/plain": [
       "False"
      ]
     },
     "execution_count": 2,
     "metadata": {},
     "output_type": "execute_result"
    }
   ],
   "source": [
    "sum = 1 + 1  # note: a single equal to sign is assigning a value to a variable \n",
    "\n",
    "sum == 3     # by using a double equal to sign, we are asking Python, is this true? Is it equal? "
   ]
  },
  {
   "attachments": {},
   "cell_type": "markdown",
   "metadata": {},
   "source": [
    "We looked at strings, integers, floats, and booleans. Those are just 4 of many data types. With these types, we can manipulate our data in various ways, and Python provides functions to faciliate these operations and manipulates. \n",
    "\n",
    "One thing to note about Python: it is a dynamically typed language. What does even mean? It means we don't need to do something like this:\n",
    "\n",
    "**String name = \"Bobby\"**\n",
    "\n",
    "We can just do this: \n",
    "\n",
    "**name = \"Bobby\"**\n",
    "\n",
    "Python will interpret the data type during run time, so we don't to declare it beforehand. \n",
    "\n",
    "\n",
    "That's enough of data types for now. Check out the next notebook to learn about some other data types. \n",
    "\n",
    "\n",
    "For a quick reference on the data types seen here, check out: https://docs.python.org/3/tutorial/introduction.html"
   ]
  }
 ],
 "metadata": {
  "kernelspec": {
   "display_name": "Python 3",
   "language": "python",
   "name": "python3"
  },
  "language_info": {
   "codemirror_mode": {
    "name": "ipython",
    "version": 3
   },
   "file_extension": ".py",
   "mimetype": "text/x-python",
   "name": "python",
   "nbconvert_exporter": "python",
   "pygments_lexer": "ipython3",
   "version": "3.10.6"
  },
  "orig_nbformat": 4,
  "vscode": {
   "interpreter": {
    "hash": "916dbcbb3f70747c44a77c7bcd40155683ae19c65e1c03b4aa3499c5328201f1"
   }
  }
 },
 "nbformat": 4,
 "nbformat_minor": 2
}
