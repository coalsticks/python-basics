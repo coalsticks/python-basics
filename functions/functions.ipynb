{
 "cells": [
  {
   "attachments": {},
   "cell_type": "markdown",
   "metadata": {},
   "source": [
    "# Functions\n",
    "\n",
    "Let's say you need to be able to provide the squared value of any number. You don't know what number that is,\n",
    "all you know is that it is an integer.  \n",
    "\n",
    "It would be extremely unconventional to do it like this: "
   ]
  },
  {
   "cell_type": "code",
   "execution_count": 14,
   "metadata": {},
   "outputs": [],
   "source": [
    "number1 = 2 ** 2 \n",
    "number2 = 9 ** 2\n",
    "number3 = 495 ** 2"
   ]
  },
  {
   "attachments": {},
   "cell_type": "markdown",
   "metadata": {},
   "source": [
    "And you get it..."
   ]
  },
  {
   "attachments": {},
   "cell_type": "markdown",
   "metadata": {},
   "source": [
    "So, to make things more efficient, we write functions. \n",
    "\n",
    "They can recieve any amount of inputs, or none at all! These inputs are known as parameters. When the function is actually called (being used), they are called arguments. But really, it's the same.\n",
    "\n",
    "They can only return one value. Or none at all (more on this later) !!\n",
    "\n",
    "Let's write one..."
   ]
  },
  {
   "cell_type": "code",
   "execution_count": 2,
   "metadata": {},
   "outputs": [],
   "source": [
    "def square_number(number): \n",
    "    return number ** 2"
   ]
  },
  {
   "attachments": {},
   "cell_type": "markdown",
   "metadata": {},
   "source": [
    "First we use the keyword def to define our function. Followed by def is the function's name (make it specific).\n",
    "\n",
    "In parathesis, we have the parameters (i.e. what sort of input this function will use)"
   ]
  },
  {
   "attachments": {},
   "cell_type": "markdown",
   "metadata": {},
   "source": [
    "If we run our Python code, nothing will happen. That is because we did not call our function.\n",
    "\n",
    "A function call tells the interpreter \"hey, I wanna use this function right now\". \n",
    "\n",
    "It's easy, just write the function name and pass the arguments (if any) in the paranthesis."
   ]
  },
  {
   "cell_type": "code",
   "execution_count": 4,
   "metadata": {},
   "outputs": [
    {
     "name": "stdout",
     "output_type": "stream",
     "text": [
      "4\n"
     ]
    }
   ],
   "source": [
    "print(square_number(2))   "
   ]
  },
  {
   "attachments": {},
   "cell_type": "markdown",
   "metadata": {},
   "source": [
    "We want to print this value, because by returning it inside the function it only stores it in memory. To display it, we must specify that it needs to be printed. "
   ]
  },
  {
   "cell_type": "code",
   "execution_count": 5,
   "metadata": {},
   "outputs": [
    {
     "name": "stdout",
     "output_type": "stream",
     "text": [
      "24870169\n"
     ]
    }
   ],
   "source": [
    "# let's try another input\n",
    "\n",
    "print(square_number(4987))"
   ]
  },
  {
   "cell_type": "code",
   "execution_count": 6,
   "metadata": {},
   "outputs": [
    {
     "name": "stdout",
     "output_type": "stream",
     "text": [
      "8136.040000000001\n"
     ]
    }
   ],
   "source": [
    "# what if we enter a float? \n",
    "\n",
    "print(square_number(90.2))  # that's fine, it's still a numeric data type"
   ]
  },
  {
   "cell_type": "code",
   "execution_count": 7,
   "metadata": {},
   "outputs": [
    {
     "ename": "TypeError",
     "evalue": "unsupported operand type(s) for ** or pow(): 'str' and 'int'",
     "output_type": "error",
     "traceback": [
      "\u001b[0;31m---------------------------------------------------------------------------\u001b[0m",
      "\u001b[0;31mTypeError\u001b[0m                                 Traceback (most recent call last)",
      "Cell \u001b[0;32mIn[7], line 3\u001b[0m\n\u001b[1;32m      1\u001b[0m \u001b[39m# and a string? \u001b[39;00m\n\u001b[0;32m----> 3\u001b[0m \u001b[39mprint\u001b[39m(square_number(\u001b[39m\"\u001b[39;49m\u001b[39m19\u001b[39;49m\u001b[39m\"\u001b[39;49m))\n",
      "Cell \u001b[0;32mIn[2], line 4\u001b[0m, in \u001b[0;36msquare_number\u001b[0;34m(number)\u001b[0m\n\u001b[1;32m      3\u001b[0m \u001b[39mdef\u001b[39;00m \u001b[39msquare_number\u001b[39m(number: \u001b[39mint\u001b[39m) \u001b[39m-\u001b[39m\u001b[39m>\u001b[39m \u001b[39mint\u001b[39m: \n\u001b[0;32m----> 4\u001b[0m     \u001b[39mreturn\u001b[39;00m number \u001b[39m*\u001b[39;49m\u001b[39m*\u001b[39;49m \u001b[39m2\u001b[39;49m\n",
      "\u001b[0;31mTypeError\u001b[0m: unsupported operand type(s) for ** or pow(): 'str' and 'int'"
     ]
    }
   ],
   "source": [
    "# and a string? \n",
    "\n",
    "print(square_number(\"19\"))"
   ]
  },
  {
   "attachments": {},
   "cell_type": "markdown",
   "metadata": {},
   "source": [
    "A fun TypeError. Remember why? Strings do not support mathematical operations such as multiplication.\n",
    "\n",
    "Wanna try type-casting it instead? "
   ]
  },
  {
   "attachments": {},
   "cell_type": "markdown",
   "metadata": {},
   "source": [
    "That's kinda nested, but it worked"
   ]
  },
  {
   "cell_type": "code",
   "execution_count": 8,
   "metadata": {},
   "outputs": [
    {
     "name": "stdout",
     "output_type": "stream",
     "text": [
      "361\n"
     ]
    }
   ],
   "source": [
    "print(square_number(int(\"19\")))  "
   ]
  },
  {
   "attachments": {},
   "cell_type": "markdown",
   "metadata": {},
   "source": [
    "We can also pass variables as arguments"
   ]
  },
  {
   "cell_type": "code",
   "execution_count": 9,
   "metadata": {},
   "outputs": [
    {
     "name": "stdout",
     "output_type": "stream",
     "text": [
      "64\n"
     ]
    }
   ],
   "source": [
    "number = 8 \n",
    "\n",
    "print(square_number(number))"
   ]
  },
  {
   "attachments": {},
   "cell_type": "markdown",
   "metadata": {},
   "source": [
    "Now, let's see some functions that don't have inputs."
   ]
  },
  {
   "cell_type": "code",
   "execution_count": 1,
   "metadata": {},
   "outputs": [],
   "source": [
    "def print_a_random_phrase(): \n",
    "    print(\"fun, fresh and frolic\")"
   ]
  },
  {
   "attachments": {},
   "cell_type": "markdown",
   "metadata": {},
   "source": [
    "Let's call it right now\n"
   ]
  },
  {
   "cell_type": "code",
   "execution_count": 2,
   "metadata": {},
   "outputs": [
    {
     "name": "stdout",
     "output_type": "stream",
     "text": [
      "fun, fresh and frolic\n"
     ]
    }
   ],
   "source": [
    "print_a_random_phrase()   "
   ]
  },
  {
   "attachments": {},
   "cell_type": "markdown",
   "metadata": {},
   "source": [
    "Remember, you don't need pass any parameters, but you need the parantheses because this is a function."
   ]
  },
  {
   "cell_type": "code",
   "execution_count": 3,
   "metadata": {},
   "outputs": [
    {
     "name": "stdout",
     "output_type": "stream",
     "text": [
      "fun, fresh and frolic\n",
      "None\n"
     ]
    }
   ],
   "source": [
    "# what if we try printing this function? \n",
    "\n",
    "print(print_a_random_phrase())"
   ]
  },
  {
   "attachments": {},
   "cell_type": "markdown",
   "metadata": {},
   "source": [
    "You get the statement that we are printing inside the function and...None?\n",
    "\n",
    "This is called a NoneType. It is a data type used to define null values. Since we are not returning any specific values (storing any value), and just printing a statement, there is no value. \n",
    "\n",
    "Therefore, when we try to print \"nothing\", we get a None type value. \n",
    "\n",
    "Cool, right? \n",
    "\n",
    "But not having a parameter does not mean that a function will not return anything.\n"
   ]
  },
  {
   "cell_type": "code",
   "execution_count": 4,
   "metadata": {},
   "outputs": [
    {
     "data": {
      "text/plain": [
       "5"
      ]
     },
     "execution_count": 4,
     "metadata": {},
     "output_type": "execute_result"
    }
   ],
   "source": [
    "a = 2\n",
    "b = 3\n",
    "\n",
    "def add_ab():\n",
    "    return a + b\n",
    "\n",
    "add_ab()"
   ]
  }
 ],
 "metadata": {
  "kernelspec": {
   "display_name": "Python 3",
   "language": "python",
   "name": "python3"
  },
  "language_info": {
   "codemirror_mode": {
    "name": "ipython",
    "version": 3
   },
   "file_extension": ".py",
   "mimetype": "text/x-python",
   "name": "python",
   "nbconvert_exporter": "python",
   "pygments_lexer": "ipython3",
   "version": "3.10.6"
  },
  "orig_nbformat": 4,
  "vscode": {
   "interpreter": {
    "hash": "916dbcbb3f70747c44a77c7bcd40155683ae19c65e1c03b4aa3499c5328201f1"
   }
  }
 },
 "nbformat": 4,
 "nbformat_minor": 2
}
